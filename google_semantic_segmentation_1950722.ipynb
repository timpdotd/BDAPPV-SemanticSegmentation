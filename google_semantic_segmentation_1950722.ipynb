{
  "cells": [
    {
      "cell_type": "markdown",
      "metadata": {
        "id": "dZbXC75AsRb1"
      },
      "source": []
    },
    {
      "cell_type": "markdown",
      "metadata": {
        "id": "8ldUXk7pfr2B"
      },
      "source": [
        "# Semantic Segmentation on Google images\n",
        "\n",
        "\n",
        "---\n",
        "\n"
      ]
    },
    {
      "cell_type": "markdown",
      "metadata": {
        "id": "joxFRYUvfQgF"
      },
      "source": [
        "## Description"
      ]
    },
    {
      "cell_type": "markdown",
      "source": [
        "The image segmentation task as the objective to identify the objective in a generic photo. This could be a multi-class or binary image segmentation: the first need to identify all the objectives in a photo, for example, the cat, the human, the table and so on; the second one need only to identify the object and what is not the object, for example the cat and the other things are \"not the cat\".\n",
        "\n",
        "In this notebook we will explore the image segmentation on photovoltaic panels in multi spectral satellitar images. We will use a UNET model for the task (see later on) and compare the results to identify the best outcomes and the difference between the prediction and the truth label."
      ],
      "metadata": {
        "id": "8T10cz1S_ALl"
      }
    },
    {
      "cell_type": "markdown",
      "metadata": {
        "id": "ZSVRV8z3N8te"
      },
      "source": [
        "## About the dataset\n",
        "\n"
      ]
    },
    {
      "cell_type": "markdown",
      "metadata": {
        "id": "nLWNgC5Ijli6"
      },
      "source": [
        "### bdappv/ Root data folder\n",
        "- google/ign:  One folder for each campaign\n",
        "  - img/: Folder containing all the images presented to the users. This folder contains 28807 images for Google and 17325 images for IGN.\n",
        "  - mask/: Folder containing all segmentations masks generated from the polygon annotations of the users. This folder contains 13303 masks for Google and 7686 masks for IGN.\n",
        "- metadata.csv The .csv  file with the installations' metadata.\n",
        "\n"
      ]
    },
    {
      "cell_type": "markdown",
      "metadata": {
        "id": "uzN506ACjpDM"
      },
      "source": [
        "\n",
        "### data/ Root data folder\n",
        "\n",
        "- raw/ Folder containing the raw crowdsourcing data and raw metadata;\n",
        "  - input-google.json: .json input data data containing all information on images and raw annotators’ contributions for both phases (clicks and polygons) during the first annotation campaign;\n",
        "  - input-ign.json: .json input data containing all information on images and raw annotators’ contributions for both phases (clicks and polygons) during the second annotation campaign;\n",
        "  - raw-metadata.json: .json output containing the PV systems’ metadata extracted from the BDPV database before filtering. It can be used to replicate the association between the installations and the segmentation masks, as done in the notebook metadata.\n",
        "- replication/ Folder containing the compiled data used to generate the segmentation masks;\n",
        "  - campaign-google/campaign-ign: One folder for each campaign\n",
        "    - click-analysis.json: .json output on the click analysis, compiling raw input into a few best-guess locations for the PV arrays. This dataset enables the replication of our annotations,\n",
        "    - polygon-analysis.json: .json output of polygon analysis, compiling raw input into a best-guess polygon for the PV arrays.\n",
        "- validation/ Folder containing the compiled data used for technical validation.\n",
        "  - campaign-google/campaign-ign: One folder for each campaign\n",
        "    - click-analysis-thres=1.0.json: .json output of the click analysis with a lowered threshold to analyze the effect of the threshold on image classification, as done in the notebook annotation;\n",
        "    - polygon-analysis-thres=1.0.json: .json output of polygon analysis, with a lowered threshold to analyze the effect of the threshold on polygon annotation, as done in the notebook annotations.\n",
        "  - metadata.csv: the .csv file of filtered installations' metadata."
      ]
    },
    {
      "cell_type": "markdown",
      "metadata": {
        "id": "XS7gRVCQOBFz"
      },
      "source": [
        "##Summary\n"
      ]
    },
    {
      "cell_type": "markdown",
      "metadata": {
        "id": "36vlp-rmlhzt"
      },
      "source": [
        "Photovoltaic (PV) energy generation plays a crucial role in the energy transition. Small-scale, residential PV installations are deployed at an unprecedented pace, and their safe integration into the grid necessitates up-to-date, high-quality information. Overhead imagery is increasingly used to improve the knowledge of residential PV installations with machine learning models capable of automatically mapping these installations. However, these models cannot be reliably transferred from one region or imagery source to another without incurring a decrease in accuracy. To address this issue, known as distribution shift, and foster the development of PV array mapping pipelines, we propose a dataset containing aerial images, segmentation masks, and installation metadata. We provide installation metadata for more than 28000 installations. We provide ground truth segmentation masks for 13000 installations, including 7000 with annotations for two different image providers. Finally, we provide installation metadata that matches the annotation for more than 8000 installations. Dataset applications include end-to-end PV registry construction, robust PV installations mapping, and analysis of crowdsourced datasets.\n",
        "\n",
        "This dataset contains the complete records associated with the article \"A crowdsourced dataset of aerial images of solar panels, their segmentation masks, and characteristics\", published in Scientific data. The article is accessible here : https://www.nature.com/articles/s41597-023-01951-4\n",
        "\n",
        "These complete records consist of:\n",
        "\n",
        "1. The complete training dataset containing RGB overhead imagery, segmentation masks and metadata of PV installations (folder bdappv),\n",
        "2. The raw crowdsourcing data, and the postprocessed data for replication and validation (folder data).\n",
        "---\n",
        "The description above is copied from the official page of the dataset.\n",
        "\n",
        "The dataset can be found here: https://zenodo.org/records/7358126\n",
        "\n",
        "The paper can be found here: https://www.nature.com/articles/s41597-023-01951-4"
      ]
    },
    {
      "cell_type": "markdown",
      "metadata": {
        "id": "O-5fo4iplI3v"
      },
      "source": [
        "# Import libraries & mounting Drive\n",
        "\n",
        "---\n",
        "\n"
      ]
    },
    {
      "cell_type": "markdown",
      "metadata": {
        "id": "VUoh0s3sftAs"
      },
      "source": [
        "Mounting Drive"
      ]
    },
    {
      "cell_type": "code",
      "execution_count": null,
      "metadata": {
        "colab": {
          "base_uri": "https://localhost:8080/"
        },
        "id": "Fnhj4qhzfvUU",
        "outputId": "ba08d64b-bb89-4d27-c5db-1c79b496bab4"
      },
      "outputs": [
        {
          "output_type": "stream",
          "name": "stdout",
          "text": [
            "Mounted at /content/drive\n"
          ]
        }
      ],
      "source": [
        "# Mount Google Drive\n",
        "from google.colab import drive\n",
        "drive.mount('/content/drive', force_remount=True)"
      ]
    },
    {
      "cell_type": "markdown",
      "metadata": {
        "id": "mDztWb2rHhI1"
      },
      "source": [
        "### Import libraries"
      ]
    },
    {
      "cell_type": "code",
      "execution_count": null,
      "metadata": {
        "colab": {
          "base_uri": "https://localhost:8080/"
        },
        "id": "OVIFFFYmHjqt",
        "outputId": "bb6ac308-7f4e-4c63-d530-eedaf44f54a4"
      },
      "outputs": [
        {
          "output_type": "stream",
          "name": "stdout",
          "text": [
            "Collecting wget\n",
            "  Downloading wget-3.2.zip (10 kB)\n",
            "  Preparing metadata (setup.py) ... \u001b[?25l\u001b[?25hdone\n",
            "Building wheels for collected packages: wget\n",
            "  Building wheel for wget (setup.py) ... \u001b[?25l\u001b[?25hdone\n",
            "  Created wheel for wget: filename=wget-3.2-py3-none-any.whl size=9656 sha256=05d314845e220ef626f53db5b798132ae125059202e2048216b3bba415f41eae\n",
            "  Stored in directory: /root/.cache/pip/wheels/8b/f1/7f/5c94f0a7a505ca1c81cd1d9208ae2064675d97582078e6c769\n",
            "Successfully built wget\n",
            "Installing collected packages: wget\n",
            "Successfully installed wget-3.2\n"
          ]
        }
      ],
      "source": [
        "# Plotting\n",
        "%matplotlib inline\n",
        "%reload_ext tensorboard\n",
        "import seaborn as sns\n",
        "import matplotlib.pyplot as plt\n",
        "\n",
        "# PyTorch\n",
        "import torch\n",
        "import torch.nn as nn\n",
        "import torch.nn.functional as F\n",
        "import torchvision.transforms.functional as TF\n",
        "import torch.optim as optim\n",
        "import albumentations as A\n",
        "\n",
        "from torch.utils.data import Dataset, DataLoader, SubsetRandomSampler, ConcatDataset, TensorDataset, random_split\n",
        "from torchvision import datasets, transforms\n",
        "from torch.utils.tensorboard import SummaryWriter\n",
        "from albumentations.pytorch import ToTensorV2\n",
        "from tqdm import tqdm\n",
        "\n",
        "# Utilites\n",
        "import zipfile\n",
        "import os\n",
        "import requests\n",
        "import shutil\n",
        "import numpy as np\n",
        "import pandas as pd\n",
        "import sklearn\n",
        "import random\n",
        "from PIL import Image\n",
        "\n",
        "from shutil import copyfile\n",
        "from sklearn.model_selection import KFold\n",
        "from sklearn.metrics import confusion_matrix\n",
        "from sklearn.preprocessing import StandardScaler\n",
        "\n",
        "# Wget\n",
        "try:\n",
        "    import wget\n",
        "except ModuleNotFoundError: # Google Colab does not have wget installed by default. Hence, we do it here if necessary\n",
        "    !pip install wget\n",
        "    import wget"
      ]
    },
    {
      "cell_type": "markdown",
      "metadata": {
        "id": "4xtWT8LA4VXd"
      },
      "source": [
        "## Constant values and useful functions"
      ]
    },
    {
      "cell_type": "markdown",
      "source": [
        "URLS and directories"
      ],
      "metadata": {
        "id": "q_d8tk_tntDO"
      }
    },
    {
      "cell_type": "code",
      "execution_count": null,
      "metadata": {
        "id": "Pt3mM2ux4YOc"
      },
      "outputs": [],
      "source": [
        "CAMPAIGN = \"/google\"\n",
        "\n",
        "if CAMPAIGN == \"/google\":\n",
        "    OTHER_CAMPAIGN = '/ign'\n",
        "else:\n",
        "    if CAMPAIGN == \"/ign\":\n",
        "        OTHER_CAMPAIGN = '/google'\n",
        "    else:\n",
        "        raise ValueError(\"Unknown campaign: please write '/google' or '/ign'\")\n",
        "\n",
        "# URLS where you can find the dataset\n",
        "BDAPPV_URL = 'https://zenodo.org/records/7358126/files/bdappv.zip?download=1'\n",
        "DATA_URL = 'https://zenodo.org/records/7358126/files/data.zip?download=1'\n",
        "\n",
        "URLS = [DATA_URL, BDAPPV_URL]\n",
        "\n",
        "# Change this to save and extract files in different directory\n",
        "PARENT_DIR = '/content/drive/MyDrive/tesi/google_semantic_segmentation'\n",
        "DATASET_DIR = os.path.join(PARENT_DIR, \"dataset\")\n",
        "SAVE_DIR = os.path.join(PARENT_DIR, \"dataset\")\n",
        "EXTRACT_DIR = os.path.join(PARENT_DIR, \"dataset\")\n",
        "IMG_DIR = os.path.join(DATASET_DIR, \"bdappv\" + CAMPAIGN + \"/img\")\n",
        "MASK_DIR = os.path.join(DATASET_DIR, \"bdappv\" + CAMPAIGN + \"/mask\")\n",
        "TO_DELETE = os.path.join(DATASET_DIR, \"bdappv\" + OTHER_CAMPAIGN)\n",
        "\n",
        "TRAIN_IMG_DIR = os.path.join(PARENT_DIR, \"train\" + \"/img\")\n",
        "TRAIN_MASK_DIR = os.path.join(PARENT_DIR, \"train\" + \"/mask\")\n",
        "VAL_IMG_DIR = os.path.join(PARENT_DIR, \"validation\" + \"/img\")\n",
        "VAL_MASK_DIR = os.path.join(PARENT_DIR, \"validation\" + \"/mask\")\n",
        "TEST_IMG_DIR = os.path.join(PARENT_DIR, \"test\" + \"/img\")\n",
        "TEST_MASK_DIR = os.path.join(PARENT_DIR, \"test\" + \"/mask\")\n",
        "\n",
        "# directory to save model, plots and everything else"
      ]
    },
    {
      "cell_type": "markdown",
      "source": [
        "Bunch of constants"
      ],
      "metadata": {
        "id": "6mXILxzsNdZm"
      }
    },
    {
      "cell_type": "code",
      "source": [
        "# The answer to anything\n",
        "SEED = 42\n",
        "\n",
        "DEVICE = torch.device('cuda' if torch.cuda.is_available() else 'cpu')\n",
        "\n",
        "LEARNING_RATE = 1e-4\n",
        "DEVICE = \"cuda\" if torch.cuda.is_available() else \"cpu\"\n",
        "BATCH_SIZE = 16\n",
        "NUM_EPOCHS = 20\n",
        "NUM_WORKERS = 2\n",
        "IMAGE_HEIGHT = 200\n",
        "IMAGE_WIDTH = 200 # Original: 400 x 400\n",
        "PIN_MEMORY = True\n",
        "LOAD_MODEL = False"
      ],
      "metadata": {
        "id": "wzeudWv0nxPb"
      },
      "execution_count": null,
      "outputs": []
    },
    {
      "cell_type": "markdown",
      "source": [
        "Useful functions"
      ],
      "metadata": {
        "id": "G51sqa4SNfP8"
      }
    },
    {
      "cell_type": "code",
      "execution_count": null,
      "metadata": {
        "id": "QGaROpdOxpJp"
      },
      "outputs": [],
      "source": [
        "def set_seed(seed):\n",
        "    random.seed(seed)\n",
        "    np.random.seed(seed)\n",
        "    torch.manual_seed(seed)\n",
        "    torch.cuda.manual_seed_all(seed)\n",
        "\n",
        "set_seed(SEED)"
      ]
    },
    {
      "cell_type": "code",
      "source": [
        "def explore_directories(directory):\n",
        "    for root, dirs, files in os.walk(directory):\n",
        "        print(f\"Directory: {root}\")\n",
        "        print(f\"Number of files: {len(files)}\")\n",
        "        print(\"-------------------------------------\")"
      ],
      "metadata": {
        "id": "gWasoDiiZkTB"
      },
      "execution_count": null,
      "outputs": []
    },
    {
      "cell_type": "code",
      "source": [
        "def download_and_extract(url, save_dir, extract_dir):\n",
        "    filename = url.split('/')[-1]\n",
        "    if not os.path.exists(os.path.join(save_dir, filename)):\n",
        "\n",
        "        with requests.get(url, stream=True) as r:\n",
        "            with open(os.path.join(save_dir, filename), 'wb') as f:\n",
        "                shutil.copyfileobj(r.raw, f)\n",
        "\n",
        "        with zipfile.ZipFile(os.path.join(save_dir, filename), 'r') as zip_ref:\n",
        "            print(\"Extracting...\")\n",
        "            zip_ref.extractall(extract_dir)\n",
        "\n",
        "        print(\"File .zip deleted\")\n",
        "        os.remove(os.path.join(save_dir, filename))\n",
        "    else:\n",
        "        print(f\"Skipping installation of {filename}. File already exists.\")"
      ],
      "metadata": {
        "id": "ACI99Gf4Zp7f"
      },
      "execution_count": null,
      "outputs": []
    },
    {
      "cell_type": "code",
      "source": [
        "def add_empty_masks():\n",
        "    mask_dir = MASK_DIR\n",
        "    image_dir = IMG_DIR\n",
        "    images_without_masks = []\n",
        "    for image_file in os.listdir(image_dir):\n",
        "        image_path = os.path.join(image_dir, image_file)\n",
        "        mask_path = os.path.join(mask_dir, os.path.splitext(image_file)[0] + \".png\")\n",
        "        if not os.path.isfile(mask_path):\n",
        "            image = Image.open(image_path)\n",
        "            mask = Image.new(\"RGB\", image.size, color=\"black\")\n",
        "            mask.save(mask_path)\n",
        "            images_without_masks.append(image_file)\n",
        "    print(f\"Aggiunte {len(images_without_masks)} maschere vuote per le immagini senza maschera.\")"
      ],
      "metadata": {
        "id": "bNLJOL2uaZ3V"
      },
      "execution_count": null,
      "outputs": []
    },
    {
      "cell_type": "code",
      "source": [
        "def delete_small_images():\n",
        "    image_dir = IMG_DIR\n",
        "    max_size = 10240 # 10 KB\n",
        "    small_images = []\n",
        "    for image_file in os.listdir(image_dir):\n",
        "        image_path = os.path.join(image_dir, image_file)\n",
        "        if os.path.isfile(image_path) and os.path.getsize(image_path) < max_size:\n",
        "            os.remove(image_path)\n",
        "            small_images.append(image_file)\n",
        "    print(f\"Eliminate {len(small_images)} immagini con dimensione inferiore a {max_size} byte.\")"
      ],
      "metadata": {
        "id": "pcSPitPXGRZD"
      },
      "execution_count": null,
      "outputs": []
    },
    {
      "cell_type": "code",
      "source": [
        "def split_and_move(files_paths):\n",
        "    for directory, file_list in files_paths:\n",
        "        # Create main directory\n",
        "        os.makedirs(directory, exist_ok=True)\n",
        "\n",
        "        # Create subdirectories img., mask and no_mask (to add them later)\n",
        "        img_directory = os.path.join(directory, 'img/')\n",
        "        mask_directory = os.path.join(directory, 'mask/')\n",
        "        no_masks_directory = os.path.join(directory, 'no_mask/')\n",
        "        os.makedirs(img_directory, exist_ok=True)\n",
        "        os.makedirs(mask_directory, exist_ok=True)\n",
        "        os.makedirs(no_masks_directory, exist_ok=True)\n",
        "\n",
        "        # Create file path\n",
        "        file_path = os.path.join(directory, f'{os.path.basename(directory)}.txt')\n",
        "        file_no_mask_path = os.path.join(directory, f'{os.path.basename(directory)}_no_masks.txt')\n",
        "\n",
        "        # Check if file already exists\n",
        "        if os.path.exists(file_path):\n",
        "            print(f\"Path to file already exists: {file_path}\")\n",
        "        else:\n",
        "            print(f\"Writing to file: {file_path}\")\n",
        "            content = []\n",
        "            content_no_mask = []\n",
        "            for file_name in file_list:\n",
        "                image_path = os.path.join(IMG_DIR, file_name)\n",
        "                mask_path = os.path.join(MASK_DIR, file_name)\n",
        "                if os.path.exists(image_path) and os.path.exists(mask_path):\n",
        "                    content.append(file_name)\n",
        "                else:\n",
        "                    if os.path.exists(image_path) and not os.path.exists(mask_path):\n",
        "                        content_no_mask.append(file_name)\n",
        "                    else:\n",
        "                        raise ValueError(\"Impossible\")\n",
        "\n",
        "            # Write content to file\n",
        "            with open(file_path, 'w') as file:\n",
        "                file.write('\\n'.join(content))\n",
        "\n",
        "            with open(file_path, 'r') as file:\n",
        "                lines = file.readlines()\n",
        "                for line in lines:\n",
        "                    # Clean the line by removing leading and trailing whitespace and newline characters\n",
        "                    cleaned_line = line.strip()\n",
        "\n",
        "                    # Get the file paths for the image and mask\n",
        "                    img_file_path = os.path.join(IMG_DIR, cleaned_line)\n",
        "                    mask_file_path = os.path.join(MASK_DIR, cleaned_line)\n",
        "\n",
        "                    # Check if the image and mask files exist and copy them in the new dir\n",
        "                    if os.path.exists(img_file_path) and os.path.exists(mask_file_path):\n",
        "                        shutil.move(img_file_path, os.path.join(img_directory, cleaned_line))\n",
        "                        shutil.move(mask_file_path, os.path.join(mask_directory, cleaned_line))\n",
        "\n",
        "                    # Write content to file\n",
        "            with open(file_no_mask_path, 'w') as file:\n",
        "                file.write('\\n'.join(content_no_mask))\n",
        "\n",
        "            with open(file_no_mask_path, 'r') as file:\n",
        "                lines = file.readlines()\n",
        "                for line in lines:\n",
        "                    # Clean the line by removing leading and trailing whitespace and newline characters\n",
        "                    cleaned_line = line.strip()\n",
        "\n",
        "                    # Get the file paths for the image and mask\n",
        "                    img_file_path = os.path.join(IMG_DIR, cleaned_line)\n",
        "\n",
        "                    # Check if the image doesn't have a mask and copy them in the new dir\n",
        "                    if os.path.exists(img_file_path) and not os.path.exists(mask_file_path):\n",
        "                        shutil.move(img_file_path, os.path.join(no_masks_directory, cleaned_line))\n",
        "\n",
        "            print(f\"Content for {file_path} written: {len(content)} lines\")"
      ],
      "metadata": {
        "id": "U8vFEdfkbBgJ"
      },
      "execution_count": null,
      "outputs": []
    },
    {
      "cell_type": "code",
      "source": [
        "def check_progress():\n",
        "    if not os.path.exists(progress_file):\n",
        "        with open(progress_file, 'w') as file:\n",
        "            file.write('')\n",
        "        return []\n",
        "    else:\n",
        "        with open(progress_file, 'r') as file:\n",
        "            return file.readlines()"
      ],
      "metadata": {
        "id": "U6lgbDkfF-kE"
      },
      "execution_count": null,
      "outputs": []
    },
    {
      "cell_type": "markdown",
      "source": [
        "# Setting up the environment\n",
        "\n",
        "---\n",
        "\n"
      ],
      "metadata": {
        "id": "-wFbzKWBowXs"
      }
    },
    {
      "cell_type": "markdown",
      "source": [
        "This file txt helps to track the status of the setup."
      ],
      "metadata": {
        "id": "MN_oibdaNowM"
      }
    },
    {
      "cell_type": "code",
      "source": [
        "progress_file = os.path.join(PARENT_DIR, 'setup_progress.txt')\n",
        "\n",
        "progress = check_progress()"
      ],
      "metadata": {
        "id": "xFSHXycK8Bdl"
      },
      "execution_count": null,
      "outputs": []
    },
    {
      "cell_type": "markdown",
      "source": [
        "Download and extract the dataset from https://zenodo.org/records/7358126"
      ],
      "metadata": {
        "id": "4x3T4ntDNzRO"
      }
    },
    {
      "cell_type": "code",
      "execution_count": null,
      "metadata": {
        "id": "GaOdcxHpgNyF",
        "colab": {
          "base_uri": "https://localhost:8080/"
        },
        "outputId": "ea476a2f-f5fe-4587-caec-9b972ffa70f7"
      },
      "outputs": [
        {
          "output_type": "stream",
          "name": "stdout",
          "text": [
            "Dataset already downloaded.\n"
          ]
        }
      ],
      "source": [
        "step = \"Downloaded and extracted the dataset.\\n\"\n",
        "\n",
        "if step not in progress:\n",
        "\n",
        "    print(\"Downloading the dataset... (this will take a while)\")\n",
        "\n",
        "    if not os.path.exists(PARENT_DIR):\n",
        "        os.makedirs(PARENT_DIR)\n",
        "    if not os.path.exists(DATASET_DIR):\n",
        "        os.makedirs(DATASET_DIR)\n",
        "\n",
        "    for url in URLS:\n",
        "        print(f\"Downloading data from {url}\")\n",
        "        download_and_extract(url, SAVE_DIR, EXTRACT_DIR)\n",
        "\n",
        "    with open(progress_file, 'a') as file:\n",
        "        file.write(step)\n",
        "    progress = check_progress()\n",
        "\n",
        "else:\n",
        "    print(\"Dataset already downloaded.\")"
      ]
    },
    {
      "cell_type": "markdown",
      "source": [
        "Free space by deleting the other campaign (in our case, IGN)"
      ],
      "metadata": {
        "id": "zlkq8RXKN7KB"
      }
    },
    {
      "cell_type": "code",
      "source": [
        "step = \"Delete other campaign.\\n\"\n",
        "if step not in progress:\n",
        "\n",
        "    print(\"Deleting other campaign...\")\n",
        "\n",
        "    if os.path.exists(TO_DELETE):\n",
        "        shutil.rmtree(TO_DELETE)\n",
        "        print(f\"The directory {TO_DELETE} has been successfully deleted.\")\n",
        "\n",
        "    with open(progress_file, 'a') as file:\n",
        "        file.write(step)\n",
        "    progress = check_progress()\n",
        "\n",
        "else:\n",
        "    print(f\"The directory {TO_DELETE} does not exist or is already deleted.\")"
      ],
      "metadata": {
        "colab": {
          "base_uri": "https://localhost:8080/"
        },
        "id": "Il2-bCfutU9i",
        "outputId": "9b24a818-a60a-4509-b584-3e27693cda1c"
      },
      "execution_count": null,
      "outputs": [
        {
          "output_type": "stream",
          "name": "stdout",
          "text": [
            "The directory /content/drive/MyDrive/tesi/google_semantic_segmentation/dataset/bdappv/ign does not exist or is already deleted.\n"
          ]
        }
      ]
    },
    {
      "cell_type": "markdown",
      "source": [
        "Fiter all the images that weights less than 10 KB"
      ],
      "metadata": {
        "id": "2eU5RkF9OAbC"
      }
    },
    {
      "cell_type": "code",
      "source": [
        "step = \"Filter images.\\n\"\n",
        "if step not in progress:\n",
        "    print(\"Filtering the dataset...\")\n",
        "    delete_small_images()\n",
        "\n",
        "    with open(progress_file, 'a') as file:\n",
        "        file.write(step)\n",
        "    progress = check_progress()\n",
        "\n",
        "else:\n",
        "    print(f\"Images already filtered.\")"
      ],
      "metadata": {
        "colab": {
          "base_uri": "https://localhost:8080/"
        },
        "id": "XxLnhumK0y4d",
        "outputId": "458f3b91-55bc-4f8c-b75d-bb92aaba7ee2"
      },
      "execution_count": null,
      "outputs": [
        {
          "output_type": "stream",
          "name": "stdout",
          "text": [
            "Images already filtered.\n"
          ]
        }
      ]
    },
    {
      "cell_type": "markdown",
      "source": [
        "Split the dataset into train, validation and test set"
      ],
      "metadata": {
        "id": "wADVEq5vOI65"
      }
    },
    {
      "cell_type": "code",
      "source": [
        "step = \"Split dataset.\\n\"\n",
        "if step not in progress:\n",
        "    print(\"Splitting dataset...\")\n",
        "\n",
        "    img_files = [file for file in os.listdir(IMG_DIR) if file.endswith(('jpg', 'jpeg', 'png', 'bmp'))]\n",
        "\n",
        "    # Shuffle the list of image files\n",
        "    random.shuffle(img_files)\n",
        "    set_seed(SEED)\n",
        "\n",
        "    # Calculate the sizes of train, validation, and test sets\n",
        "    num_images = len(img_files)\n",
        "    train_size = int(0.6 * num_images)  # 60% for training\n",
        "    val_size = int(0.2 * num_images)    # 20% for validation\n",
        "    test_size = num_images - train_size - val_size  # Remaining for testing\n",
        "\n",
        "    train_files = img_files[:train_size]\n",
        "    val_files = img_files[train_size:train_size + val_size]\n",
        "    test_files = img_files[train_size + val_size:]\n",
        "\n",
        "    # Print the number of images in each set\n",
        "    print(f\"Number of training images: {len(train_files)}\")\n",
        "    print(f\"Number of validation images: {len(val_files)}\")\n",
        "    print(f\"Number of testing images: {len(test_files)}\")\n",
        "    print(f\"Total images: {len(train_files) + len(val_files) + len(test_files)}\")\n",
        "\n",
        "    with open(progress_file, 'a') as file:\n",
        "        file.write(step)\n",
        "    progress = check_progress()\n",
        "\n",
        "else:\n",
        "    print(f\"Dataset already splitted already filtered.\")\n"
      ],
      "metadata": {
        "colab": {
          "base_uri": "https://localhost:8080/"
        },
        "id": "3yZvyoe1bIlj",
        "outputId": "25706079-ef81-461c-cc8d-9d92ef960fbd"
      },
      "execution_count": null,
      "outputs": [
        {
          "output_type": "stream",
          "name": "stdout",
          "text": [
            "Dataset already splitted already filtered.\n"
          ]
        }
      ]
    },
    {
      "cell_type": "markdown",
      "source": [
        "All the splits folders are created like this:\n",
        "- **split.txt**: all the images into the `split/img` directory\n",
        "- **no_mask.txt**: all the images without mask (we will add them later with an empty label)\n",
        "- **img**: subdirectory where all the assigned images (with masks) are stored\n",
        "- **mask**: subdirectory where all the masks with solar panels are stored\n",
        "- **no_mask**: subdirectory where all the assigned images (without masks) are stored\n",
        "\n",
        "\n"
      ],
      "metadata": {
        "id": "c5X7a5GpONVV"
      }
    },
    {
      "cell_type": "code",
      "source": [
        "step = \"Creating train folder\\n\"\n",
        "if step not in progress:\n",
        "\n",
        "    print(\"Splitting the dataset...\")\n",
        "    train_path = os.path.join(PARENT_DIR, 'train')\n",
        "    files_paths = [(train_path, train_files)]\n",
        "\n",
        "    split_and_move(files_paths)\n",
        "\n",
        "    with open(progress_file, 'a') as file:\n",
        "        file.write(step)\n",
        "    progress = check_progress()\n",
        "\n",
        "else:\n",
        "    print(f\"Train folder exists.\")"
      ],
      "metadata": {
        "id": "XpopB-ICP-my",
        "colab": {
          "base_uri": "https://localhost:8080/"
        },
        "outputId": "afbb0fbc-bc61-411e-973e-0c33b6c9a819"
      },
      "execution_count": null,
      "outputs": [
        {
          "output_type": "stream",
          "name": "stdout",
          "text": [
            "Train folder exists.\n"
          ]
        }
      ]
    },
    {
      "cell_type": "code",
      "source": [
        "step = \"Creating validation folder\\n\"\n",
        "if step not in progress:\n",
        "\n",
        "    print(\"Splitting the dataset...\")\n",
        "    val_path = os.path.join(PARENT_DIR, 'validation')\n",
        "    files_paths = [(val_path, val_files)]\n",
        "\n",
        "    split_and_move(files_paths)\n",
        "\n",
        "    with open(progress_file, 'a') as file:\n",
        "        file.write(step)\n",
        "    progress = check_progress()\n",
        "\n",
        "else:\n",
        "    print(f\"Validation folder exists.\")"
      ],
      "metadata": {
        "colab": {
          "base_uri": "https://localhost:8080/"
        },
        "id": "qJqke6LVckCa",
        "outputId": "658c2307-ac03-48c2-9580-b52ce8ebe070"
      },
      "execution_count": null,
      "outputs": [
        {
          "output_type": "stream",
          "name": "stdout",
          "text": [
            "Validation folder exists.\n"
          ]
        }
      ]
    },
    {
      "cell_type": "code",
      "source": [
        "step = \"Creating test folder\\n\"\n",
        "if step not in progress:\n",
        "\n",
        "    print(\"Splitting the dataset...\")\n",
        "    test_path = os.path.join(PARENT_DIR, 'test')\n",
        "    files_paths = [(test_path, test_files)]\n",
        "\n",
        "    split_and_move(files_paths)\n",
        "\n",
        "    with open(progress_file, 'a') as file:\n",
        "        file.write(step)\n",
        "    progress = check_progress()\n",
        "\n",
        "else:\n",
        "    print(f\"Train folder exists.\")"
      ],
      "metadata": {
        "colab": {
          "base_uri": "https://localhost:8080/"
        },
        "id": "ksKYnxEScktF",
        "outputId": "6aa619a0-6c18-41bf-bbaa-732a10f59312"
      },
      "execution_count": null,
      "outputs": [
        {
          "output_type": "stream",
          "name": "stdout",
          "text": [
            "Train folder exists.\n"
          ]
        }
      ]
    },
    {
      "cell_type": "code",
      "source": [
        "explore_directories(PARENT_DIR)"
      ],
      "metadata": {
        "colab": {
          "base_uri": "https://localhost:8080/"
        },
        "id": "iaTVHz5kqHrB",
        "outputId": "1f3e2793-555e-44b5-d892-6063c0817394"
      },
      "execution_count": null,
      "outputs": [
        {
          "output_type": "stream",
          "name": "stdout",
          "text": [
            "Directory: /content/drive/MyDrive/tesi/google_semantic_segmentation\n",
            "Number of files: 3\n",
            "-------------------------------------\n",
            "Directory: /content/drive/MyDrive/tesi/google_semantic_segmentation/.ipynb_checkpoints\n",
            "Number of files: 0\n",
            "-------------------------------------\n",
            "Directory: /content/drive/MyDrive/tesi/google_semantic_segmentation/dataset\n",
            "Number of files: 0\n",
            "-------------------------------------\n",
            "Directory: /content/drive/MyDrive/tesi/google_semantic_segmentation/dataset/data\n",
            "Number of files: 0\n",
            "-------------------------------------\n",
            "Directory: /content/drive/MyDrive/tesi/google_semantic_segmentation/dataset/data/raw\n",
            "Number of files: 2\n",
            "-------------------------------------\n",
            "Directory: /content/drive/MyDrive/tesi/google_semantic_segmentation/dataset/data/replication\n",
            "Number of files: 0\n",
            "-------------------------------------\n",
            "Directory: /content/drive/MyDrive/tesi/google_semantic_segmentation/dataset/data/replication/campaign-google\n",
            "Number of files: 2\n",
            "-------------------------------------\n",
            "Directory: /content/drive/MyDrive/tesi/google_semantic_segmentation/dataset/data/validation\n",
            "Number of files: 1\n",
            "-------------------------------------\n",
            "Directory: /content/drive/MyDrive/tesi/google_semantic_segmentation/dataset/data/validation/campaign-google\n",
            "Number of files: 2\n",
            "-------------------------------------\n",
            "Directory: /content/drive/MyDrive/tesi/google_semantic_segmentation/dataset/bdappv\n",
            "Number of files: 1\n",
            "-------------------------------------\n",
            "Directory: /content/drive/MyDrive/tesi/google_semantic_segmentation/dataset/bdappv/google\n",
            "Number of files: 0\n",
            "-------------------------------------\n",
            "Directory: /content/drive/MyDrive/tesi/google_semantic_segmentation/dataset/bdappv/google/img\n",
            "Number of files: 0\n",
            "-------------------------------------\n",
            "Directory: /content/drive/MyDrive/tesi/google_semantic_segmentation/dataset/bdappv/google/mask\n",
            "Number of files: 0\n",
            "-------------------------------------\n",
            "Directory: /content/drive/MyDrive/tesi/google_semantic_segmentation/train\n",
            "Number of files: 2\n",
            "-------------------------------------\n",
            "Directory: /content/drive/MyDrive/tesi/google_semantic_segmentation/train/img\n",
            "Number of files: 7993\n",
            "-------------------------------------\n",
            "Directory: /content/drive/MyDrive/tesi/google_semantic_segmentation/train/mask\n",
            "Number of files: 7993\n",
            "-------------------------------------\n",
            "Directory: /content/drive/MyDrive/tesi/google_semantic_segmentation/train/no_mask\n",
            "Number of files: 9185\n",
            "-------------------------------------\n",
            "Directory: /content/drive/MyDrive/tesi/google_semantic_segmentation/validation\n",
            "Number of files: 2\n",
            "-------------------------------------\n",
            "Directory: /content/drive/MyDrive/tesi/google_semantic_segmentation/validation/img\n",
            "Number of files: 2681\n",
            "-------------------------------------\n",
            "Directory: /content/drive/MyDrive/tesi/google_semantic_segmentation/validation/mask\n",
            "Number of files: 2681\n",
            "-------------------------------------\n",
            "Directory: /content/drive/MyDrive/tesi/google_semantic_segmentation/validation/no_mask\n",
            "Number of files: 3045\n",
            "-------------------------------------\n",
            "Directory: /content/drive/MyDrive/tesi/google_semantic_segmentation/test\n",
            "Number of files: 2\n",
            "-------------------------------------\n",
            "Directory: /content/drive/MyDrive/tesi/google_semantic_segmentation/test/img\n",
            "Number of files: 2629\n",
            "-------------------------------------\n",
            "Directory: /content/drive/MyDrive/tesi/google_semantic_segmentation/test/mask\n",
            "Number of files: 2629\n",
            "-------------------------------------\n",
            "Directory: /content/drive/MyDrive/tesi/google_semantic_segmentation/test/no_mask\n",
            "Number of files: 3097\n",
            "-------------------------------------\n"
          ]
        }
      ]
    },
    {
      "cell_type": "markdown",
      "source": [
        "# Exploratory Data Analysis\n",
        "\n",
        "\n",
        "---\n",
        "\n"
      ],
      "metadata": {
        "id": "KKGvRC85QP54"
      }
    },
    {
      "cell_type": "markdown",
      "metadata": {
        "id": "UeU_g2oDjMOM"
      },
      "source": [
        "# U-Net\n",
        "\n",
        "---\n",
        "\n"
      ]
    },
    {
      "cell_type": "markdown",
      "source": [
        "## Description"
      ],
      "metadata": {
        "id": "UXxmLcbsKxtH"
      }
    },
    {
      "cell_type": "markdown",
      "metadata": {
        "id": "Ulgoy3PUjMON"
      },
      "source": [
        "The U-Net architecture is a convolutional neural network (CNN) designed for image segmentation tasks, especially in biomedical image analysis. Key features are:\n",
        "- Encoder-Decoder Architecture: U-Net follows an encoder-decoder architecture. The encoder part consists of convolutional and pooling layers that downsample the input image, capturing hierarchical features. The decoder part consists of up-convolutional layers that perform upsampling to produce a segmentation map.\n",
        "\n",
        "- Skip Connections: U-Net introduces skip connections between corresponding encoder and decoder layers. These connections allow the decoder to access high-resolution feature maps from the encoder, aiding in precise localization during segmentation. The skip connections concatenate feature maps from the encoder with upsampled feature maps from the decoder.\n",
        "\n",
        "- Contracting Path (Encoder): The contracting path of U-Net consists of multiple convolutional layers followed by max-pooling layers. These layers progressively reduce the spatial dimensions of the input image while increasing the number of feature channels, capturing increasingly abstract features.\n",
        "\n",
        "- Expansive Path (Decoder): The expansive path of U-Net consists of up-convolutional layers (also known as transposed convolutions or deconvolutions) that perform upsampling of feature maps. These layers gradually increase the spatial dimensions of the feature maps back to the original input size.\n",
        "\n",
        "- Final Layer: The final layer of U-Net typically consists of a convolutional layer with a softmax activation function for multi-class segmentation or a sigmoid activation function for binary segmentation. This layer produces the final segmentation mask, with each pixel representing the probability of belonging to a particular class (for multi-class segmentation) or the foreground/background (for binary segmentation).\n",
        "\n",
        "- Loss Function: U-Net is trained using a loss function appropriate for the segmentation task, such as cross-entropy loss for multi-class segmentation or binary cross-entropy loss for binary segmentation. The model is trained using backpropagation to minimize the loss between the predicted segmentation mask and the ground truth mask."
      ]
    },
    {
      "cell_type": "markdown",
      "metadata": {
        "id": "gqM30h-S2fjU"
      },
      "source": [
        "![image.png](data:image/png;base64,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)"
      ]
    },
    {
      "cell_type": "markdown",
      "metadata": {
        "id": "D2_rLeSRjMON"
      },
      "source": [
        "## Implementation"
      ]
    },
    {
      "cell_type": "code",
      "source": [
        "class DoubleConv(nn.Module):\n",
        "    def __init__(self, in_channels, out_channels):\n",
        "        super(DoubleConv, self).__init__()\n",
        "        self.conv = nn.Sequential(\n",
        "            nn.Conv2d(in_channels, out_channels, 3, 1, 1, bias=False),\n",
        "            nn.BatchNorm2d(out_channels),\n",
        "            nn.ReLU(inplace=True),\n",
        "            nn.Conv2d(out_channels, out_channels, 3, 1, 1, bias=False),\n",
        "            nn.BatchNorm2d(out_channels),\n",
        "            nn.ReLU(inplace=True),\n",
        "        )\n",
        "\n",
        "    def forward(self, x):\n",
        "        return self.conv(x)\n",
        "\n",
        "class UNET(nn.Module):\n",
        "    def __init__(self, in_channels=3, out_channels=1, features=[64, 128, 256, 512]):\n",
        "        super(UNET, self).__init__()\n",
        "        self.ups = nn.ModuleList()\n",
        "        self.downs = nn.ModuleList()\n",
        "        self.pool = nn.MaxPool2d(kernel_size=2, stride=2)\n",
        "\n",
        "        # Down part of UNET\n",
        "        for feature in features:\n",
        "            self.downs.append(DoubleConv(in_channels, feature))\n",
        "            in_channels = feature\n",
        "\n",
        "        # Up part of UNET\n",
        "        for feature in reversed(features):\n",
        "            self.ups.append(\n",
        "                nn.ConvTranspose2d(feature*2, feature, kernel_size=2, stride=2)\n",
        "            )\n",
        "            self.ups.append(DoubleConv(feature*2, feature))\n",
        "\n",
        "        self.bottleneck = DoubleConv(features[-1], features[-1]*2)\n",
        "        self.final_conv = nn.Conv2d(features[0], out_channels, kernel_size=1)\n",
        "\n",
        "    def forward(self, x):\n",
        "        skip_connections = []\n",
        "\n",
        "        for down in self.downs:\n",
        "            x = down(x)\n",
        "            skip_connections.append(x)\n",
        "            x = self.pool(x)\n",
        "\n",
        "        x = self.bottleneck(x)\n",
        "        skip_connections = skip_connections[::-1]\n",
        "\n",
        "        for idx in range(0, len(self.ups), 2):\n",
        "            x = self.ups[idx](x)\n",
        "            skip_connection = skip_connections[idx//2]\n",
        "\n",
        "            if x.shape != skip_connection.shape:\n",
        "                x = F.interpolate(x, size=skip_connection.shape[2:], mode='bilinear', align_corners=True)\n",
        "\n",
        "            concat_skip = torch.cat((skip_connection, x), dim=1)\n",
        "            x = self.ups[idx+1](concat_skip)\n",
        "\n",
        "        x = self.final_conv(x)\n",
        "        return x"
      ],
      "metadata": {
        "id": "kcmyjvFChaG6"
      },
      "execution_count": null,
      "outputs": []
    },
    {
      "cell_type": "markdown",
      "source": [
        "Test on dummy input"
      ],
      "metadata": {
        "id": "n4HikbnrNNg8"
      }
    },
    {
      "cell_type": "code",
      "execution_count": null,
      "metadata": {
        "id": "MRTELxvzLwNO"
      },
      "outputs": [],
      "source": [
        "model = UNET(in_channels=3, out_channels=1).to(DEVICE)\n",
        "dummy_input = torch.randn(1, 3, 256, 256).squeeze(1).to(DEVICE)\n",
        "output = model(dummy_input)\n",
        "\n",
        "print(\"Test on dummy input\")\n",
        "print(\"Output: \", output.shape)\n",
        "print(\"Input: \", dummy_input.shape)"
      ]
    },
    {
      "cell_type": "markdown",
      "source": [
        "# Training baseline"
      ],
      "metadata": {
        "id": "1f7a5_hfdGvd"
      }
    },
    {
      "cell_type": "code",
      "source": [
        "baseline_transform = A.Compose([\n",
        "    A.Resize(height=IMAGE_HEIGHT, width=IMAGE_WIDTH),\n",
        "    A.Normalize(\n",
        "        mean=[0.0, 0.0, 0.0],\n",
        "        std=[1.0, 1.0, 1.0],\n",
        "        max_pixel_value=255.0,\n",
        "    ),\n",
        "    ToTensorV2(),\n",
        "])\n",
        "\n",
        "train_set = GoogleDataset(image_dir = TRAIN_IMG_DIR, mask_dir = TRAIN_MASK_DIR, transform = baseline_transform)\n",
        "val_set = GoogleDataset(image_dir = VAL_IMG_DIR, mask_dir = VAL_MASK_DIR, transform = baseline_transform)\n",
        "test_set = GoogleDataset(image_dir = TEST_IMG_DIR, mask_dir = TEST_MASK_DIR, transform = baseline_transform)\n",
        "\n",
        "train_loader = DataLoader(train_set, batch_size=BATCH_SIZE, num_workers=NUM_WORKERS, pin_memory=PIN_MEMORY, shuffle=True)\n",
        "val_loader = DataLoader(val_set, batch_size=BATCH_SIZE, num_workers=NUM_WORKERS, pin_memory=PIN_MEMORY, shuffle=False,)\n",
        "test_loader = DataLoader(test_set, batch_size=BATCH_SIZE, num_workers=NUM_WORKERS, pin_memory=PIN_MEMORY, shuffle=False,)"
      ],
      "metadata": {
        "id": "KiFTmD-hdZHK"
      },
      "execution_count": null,
      "outputs": []
    },
    {
      "cell_type": "code",
      "source": [
        "model = UNET().to(DEVICE)\n",
        "loss_values = []\n",
        "predictions = []\n",
        "\n",
        "optimizer = torch.optim.Adam(model.parameters(), lr=LEARNING_RATE)\n",
        "step_size = (NUM_EPOCHS // 3) + 1\n",
        "scheduler = torch.optim.lr_scheduler.StepLR(optimizer, step_size)\n",
        "criterion = nn.BCELoss()\n",
        "\n",
        "for epoch in range(NUM_EPOCHS):\n",
        "    model.train()\n",
        "    running_loss = 0.0\n",
        "    running_dice = 0.0\n",
        "\n",
        "    print(f'Start training EPOCH {epoch+1}')\n",
        "    for batch_idx, (images, masks) in enumerate(train_loader):\n",
        "        images = images.to(DEVICE)\n",
        "        masks = masks.float().unsqueeze(1).to(DEVICE)\n",
        "        optimizer.zero_grad()\n",
        "        outputs = model(images).to(DEVICE)\n",
        "\n",
        "        preds = torch.sigmoid(outputs)\n",
        "        loss = criterion(preds, masks)\n",
        "\n",
        "        loss.backward()\n",
        "        optimizer.step()\n",
        "        scheduler.step()  # Update learning rate\n",
        "\n",
        "        running_loss += loss.item() * images.size(0)\n",
        "\n",
        "        if batch_idx % 100 == 0:  # Print every 108 batch\n",
        "            print(f'Batch {batch_idx+1} in epoch [{epoch+1}/{NUM_EPOCHS}], Loss: {loss:.4f}')\n",
        "\n",
        "    print(f'EPOCH {epoch+1} trained')\n",
        "\n",
        "    # Start validation after each epoch\n",
        "    model.eval()\n",
        "    val_running_loss = 0.0\n",
        "    with torch.no_grad():\n",
        "        for val_images, val_masks in val_loader:\n",
        "            val_images = val_images.to(DEVICE)\n",
        "            val_masks = val_masks.float().unsqueeze(1).to(DEVICE)\n",
        "\n",
        "            val_outputs = model(val_images).to(DEVICE)\n",
        "            val_preds = torch.sigmoid(val_outputs)\n",
        "            val_loss = criterion(val_preds, val_masks)\n",
        "\n",
        "            val_running_loss += val_loss.item() * val_images.size(0)\n",
        "\n",
        "    epoch_loss = running_loss / len(train_loader)\n",
        "    val_epoch_loss = val_running_loss / len(val_loader)\n",
        "    print(f'Training Loss: {epoch_loss:.4f}')\n",
        "    print(f'Validation Loss: {val_epoch_loss:.4f}')"
      ],
      "metadata": {
        "id": "fIXOXPe87hMs"
      },
      "execution_count": null,
      "outputs": []
    },
    {
      "cell_type": "markdown",
      "source": [
        "# Training with augmentation"
      ],
      "metadata": {
        "id": "Of1aQjgLgBVo"
      }
    },
    {
      "cell_type": "code",
      "source": [
        "baseline_transform = A.Compose([\n",
        "    A.Resize(height=IMAGE_HEIGHT, width=IMAGE_WIDTH),\n",
        "    A.Normalize(\n",
        "        mean=[0.0, 0.0, 0.0],\n",
        "        std=[1.0, 1.0, 1.0],\n",
        "        max_pixel_value=255.0,\n",
        "    ),\n",
        "    ToTensorV2(),\n",
        "])\n",
        "\n",
        "train_set = GoogleDataset(image_dir = TRAIN_IMG_DIR, mask_dir = TRAIN_MASK_DIR, transform = baseline_transform)\n",
        "val_set = GoogleDataset(image_dir = VAL_IMG_DIR, mask_dir = VAL_MASK_DIR, transform = baseline_transform)\n",
        "test_set = GoogleDataset(image_dir = TEST_IMG_DIR, mask_dir = TEST_MASK_DIR, transform = baseline_transform)\n",
        "\n",
        "train_loader = DataLoader(train_set, batch_size=BATCH_SIZE, num_workers=NUM_WORKERS, pin_memory=PIN_MEMORY, shuffle=True)\n",
        "val_loader = DataLoader(val_set, batch_size=BATCH_SIZE, num_workers=NUM_WORKERS, pin_memory=PIN_MEMORY, shuffle=False,)\n",
        "test_loader = DataLoader(test_set, batch_size=BATCH_SIZE, num_workers=NUM_WORKERS, pin_memory=PIN_MEMORY, shuffle=False,)"
      ],
      "metadata": {
        "id": "Qckk2R3tgBV5"
      },
      "execution_count": null,
      "outputs": []
    },
    {
      "cell_type": "markdown",
      "metadata": {
        "id": "_Vy9RP5Accfp"
      },
      "source": [
        "# Dump"
      ]
    },
    {
      "cell_type": "markdown",
      "metadata": {
        "id": "yfk7-8ince95"
      },
      "source": [
        "\n",
        "\n",
        "Come modello puoi usare una semplice U-net (o altro modello a tua scelta). Un buon tutorial per implementare UNET è il seguente: https://www.youtube.com/watch?v=IHq1t7NxS8k&ab_channel=AladdinPersson.\n",
        "\n",
        "\n",
        "\n",
        "\n",
        "I training che dovrai eseguire sono almeno i seguenti:\n",
        "- Baseline (prova diversi learning rate su scala logaritmica, una volta individuato il migliore passa al punto successivo)\n",
        "- Aggiunta di data augmentation (almeno random horizontal/vertical flip, rotazioni di 0/90/180/270 gradi)\n",
        "- Per questo dataset è importante provare anche ad aggiungere RandomCrop. Questo perché i pannelli solari, se sono presenti, sono quasi sempre al centro dell'immagine, e potrebbe non generalizzare bene a un caso reale.\n",
        "\n",
        "Salvati tutti i training / pesi / grafici che fai, li vorrò vedere all'esame per vedere il lavoro fatto e le considerazioni che hai fatto.\n",
        "\n",
        "I modelli migliori (sul validation) usali sul test set e segnati i risultati in una tabela (IoU per ogni classe, mIoU e overall accuracy).\n",
        "\n",
        "Creati una repository GitHub dove puoi caricare di volta in volta il codice aggiornato. (Utile anche per dimostrare che il lavoro fatto è originale)"
      ]
    },
    {
      "cell_type": "code",
      "execution_count": null,
      "metadata": {
        "id": "fvDJDwgxvoXh"
      },
      "outputs": [],
      "source": [
        "optimizer = torch.optim.Adam(model.parameters(), lr=LEARNING_RATE)\n",
        "#optimizer_SGD = torch.optim.SGD(model.parameters(), lr=0.01)\n",
        "\n",
        "step_size = (NUM_EPOCHS // 3) + 1\n",
        "scheduler = torch.optim.lr_scheduler.StepLR(optimizer, step_size)\n",
        "criterion = nn.BCEWithLogitsLoss()"
      ]
    },
    {
      "cell_type": "markdown",
      "source": [
        "In questo modo il learning rate viene moltiplicato di default per 0.1 dopo un terzo delle epoche e di novo a due terzi del training e aiuta a convergere su un risultato migliore, permettendo anche di usare un learning rate iniziale maggiore."
      ],
      "metadata": {
        "id": "IQf2V824jCP4"
      }
    }
  ],
  "metadata": {
    "colab": {
      "collapsed_sections": [
        "nLWNgC5Ijli6",
        "uzN506ACjpDM"
      ],
      "provenance": [],
      "machine_shape": "hm",
      "toc_visible": true
    },
    "kernelspec": {
      "display_name": "Python 3",
      "name": "python3"
    },
    "language_info": {
      "name": "python"
    }
  },
  "nbformat": 4,
  "nbformat_minor": 0
}